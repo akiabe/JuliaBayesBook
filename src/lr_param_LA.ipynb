{
 "cells": [
  {
   "cell_type": "markdown",
   "id": "3ed03ba0",
   "metadata": {},
   "source": [
    "# 線形回帰（単一パラメータ）に対するラプラス近似"
   ]
  },
  {
   "cell_type": "markdown",
   "id": "b84b262c",
   "metadata": {},
   "source": [
    "「Juliaで作って学ぶベイズ統計学」P.172 参照"
   ]
  },
  {
   "cell_type": "code",
   "execution_count": 1,
   "id": "28053aa2",
   "metadata": {},
   "outputs": [],
   "source": [
    "using Distributions\n",
    "using Plots\n",
    "using ForwardDiff\n",
    "using LinearAlgebra"
   ]
  },
  {
   "cell_type": "markdown",
   "id": "6959a174",
   "metadata": {},
   "source": [
    "## 観測データ"
   ]
  },
  {
   "cell_type": "code",
   "execution_count": 2,
   "id": "5c6cf43a",
   "metadata": {},
   "outputs": [
    {
     "data": {
      "image/svg+xml": [
       "<?xml version=\"1.0\" encoding=\"utf-8\"?>\n",
       "<svg xmlns=\"http://www.w3.org/2000/svg\" xmlns:xlink=\"http://www.w3.org/1999/xlink\" width=\"600\" height=\"400\" viewBox=\"0 0 2400 1600\">\n",
       "<defs>\n",
       "  <clipPath id=\"clip680\">\n",
       "    <rect x=\"0\" y=\"0\" width=\"2400\" height=\"1600\"/>\n",
       "  </clipPath>\n",
       "</defs>\n",
       "<path clip-path=\"url(#clip680)\" d=\"\n",
       "M0 1600 L2400 1600 L2400 0 L0 0  Z\n",
       "  \" fill=\"#ffffff\" fill-rule=\"evenodd\" fill-opacity=\"1\"/>\n",
       "<defs>\n",
       "  <clipPath id=\"clip681\">\n",
       "    <rect x=\"480\" y=\"0\" width=\"1681\" height=\"1600\"/>\n",
       "  </clipPath>\n",
       "</defs>\n",
       "<path clip-path=\"url(#clip680)\" d=\"\n",
       "M210.746 1423.18 L2352.76 1423.18 L2352.76 123.472 L210.746 123.472  Z\n",
       "  \" fill=\"#ffffff\" fill-rule=\"evenodd\" fill-opacity=\"1\"/>\n",
       "<defs>\n",
       "  <clipPath id=\"clip682\">\n",
       "    <rect x=\"210\" y=\"123\" width=\"2143\" height=\"1301\"/>\n",
       "  </clipPath>\n",
       "</defs>\n",
       "<polyline clip-path=\"url(#clip682)\" style=\"stroke:#000000; stroke-linecap:butt; stroke-linejoin:round; stroke-width:2; stroke-opacity:0.1; fill:none\" points=\"\n",
       "  271.369,1423.18 271.369,123.472 \n",
       "  \"/>\n",
       "<polyline clip-path=\"url(#clip682)\" style=\"stroke:#000000; stroke-linecap:butt; stroke-linejoin:round; stroke-width:2; stroke-opacity:0.1; fill:none\" points=\"\n",
       "  848.73,1423.18 848.73,123.472 \n",
       "  \"/>\n",
       "<polyline clip-path=\"url(#clip682)\" style=\"stroke:#000000; stroke-linecap:butt; stroke-linejoin:round; stroke-width:2; stroke-opacity:0.1; fill:none\" points=\"\n",
       "  1426.09,1423.18 1426.09,123.472 \n",
       "  \"/>\n",
       "<polyline clip-path=\"url(#clip682)\" style=\"stroke:#000000; stroke-linecap:butt; stroke-linejoin:round; stroke-width:2; stroke-opacity:0.1; fill:none\" points=\"\n",
       "  2003.45,1423.18 2003.45,123.472 \n",
       "  \"/>\n",
       "<polyline clip-path=\"url(#clip680)\" style=\"stroke:#000000; stroke-linecap:butt; stroke-linejoin:round; stroke-width:4; stroke-opacity:1; fill:none\" points=\"\n",
       "  210.746,1423.18 2352.76,1423.18 \n",
       "  \"/>\n",
       "<polyline clip-path=\"url(#clip680)\" style=\"stroke:#000000; stroke-linecap:butt; stroke-linejoin:round; stroke-width:4; stroke-opacity:1; fill:none\" points=\"\n",
       "  271.369,1423.18 271.369,1404.28 \n",
       "  \"/>\n",
       "<polyline clip-path=\"url(#clip680)\" style=\"stroke:#000000; stroke-linecap:butt; stroke-linejoin:round; stroke-width:4; stroke-opacity:1; fill:none\" points=\"\n",
       "  848.73,1423.18 848.73,1404.28 \n",
       "  \"/>\n",
       "<polyline clip-path=\"url(#clip680)\" style=\"stroke:#000000; stroke-linecap:butt; stroke-linejoin:round; stroke-width:4; stroke-opacity:1; fill:none\" points=\"\n",
       "  1426.09,1423.18 1426.09,1404.28 \n",
       "  \"/>\n",
       "<polyline clip-path=\"url(#clip680)\" style=\"stroke:#000000; stroke-linecap:butt; stroke-linejoin:round; stroke-width:4; stroke-opacity:1; fill:none\" points=\"\n",
       "  2003.45,1423.18 2003.45,1404.28 \n",
       "  \"/>\n",
       "<path clip-path=\"url(#clip680)\" d=\"M241.311 1468.75 L270.987 1468.75 L270.987 1472.69 L241.311 1472.69 L241.311 1468.75 Z\" fill=\"#000000\" fill-rule=\"evenodd\" fill-opacity=\"1\" /><path clip-path=\"url(#clip680)\" d=\"M285.107 1481.64 L301.427 1481.64 L301.427 1485.58 L279.482 1485.58 L279.482 1481.64 Q282.144 1478.89 286.728 1474.26 Q291.334 1469.61 292.515 1468.27 Q294.76 1465.74 295.64 1464.01 Q296.542 1462.25 296.542 1460.56 Q296.542 1457.8 294.598 1456.07 Q292.677 1454.33 289.575 1454.33 Q287.376 1454.33 284.922 1455.09 Q282.491 1455.86 279.714 1457.41 L279.714 1452.69 Q282.538 1451.55 284.991 1450.97 Q287.445 1450.39 289.482 1450.39 Q294.853 1450.39 298.047 1453.08 Q301.241 1455.77 301.241 1460.26 Q301.241 1462.39 300.431 1464.31 Q299.644 1466.2 297.538 1468.8 Q296.959 1469.47 293.857 1472.69 Q290.755 1475.88 285.107 1481.64 Z\" fill=\"#000000\" fill-rule=\"evenodd\" fill-opacity=\"1\" /><path clip-path=\"url(#clip680)\" d=\"M848.73 1454.1 Q845.119 1454.1 843.29 1457.66 Q841.485 1461.2 841.485 1468.33 Q841.485 1475.44 843.29 1479.01 Q845.119 1482.55 848.73 1482.55 Q852.364 1482.55 854.17 1479.01 Q855.999 1475.44 855.999 1468.33 Q855.999 1461.2 854.17 1457.66 Q852.364 1454.1 848.73 1454.1 M848.73 1450.39 Q854.54 1450.39 857.596 1455 Q860.674 1459.58 860.674 1468.33 Q860.674 1477.06 857.596 1481.67 Q854.54 1486.25 848.73 1486.25 Q842.92 1486.25 839.841 1481.67 Q836.786 1477.06 836.786 1468.33 Q836.786 1459.58 839.841 1455 Q842.92 1450.39 848.73 1450.39 Z\" fill=\"#000000\" fill-rule=\"evenodd\" fill-opacity=\"1\" /><path clip-path=\"url(#clip680)\" d=\"M1420.74 1481.64 L1437.06 1481.64 L1437.06 1485.58 L1415.12 1485.58 L1415.12 1481.64 Q1417.78 1478.89 1422.36 1474.26 Q1426.97 1469.61 1428.15 1468.27 Q1430.4 1465.74 1431.28 1464.01 Q1432.18 1462.25 1432.18 1460.56 Q1432.18 1457.8 1430.23 1456.07 Q1428.31 1454.33 1425.21 1454.33 Q1423.01 1454.33 1420.56 1455.09 Q1418.13 1455.86 1415.35 1457.41 L1415.35 1452.69 Q1418.17 1451.55 1420.63 1450.97 Q1423.08 1450.39 1425.12 1450.39 Q1430.49 1450.39 1433.68 1453.08 Q1436.88 1455.77 1436.88 1460.26 Q1436.88 1462.39 1436.07 1464.31 Q1435.28 1466.2 1433.17 1468.8 Q1432.6 1469.47 1429.49 1472.69 Q1426.39 1475.88 1420.74 1481.64 Z\" fill=\"#000000\" fill-rule=\"evenodd\" fill-opacity=\"1\" /><path clip-path=\"url(#clip680)\" d=\"M2006.46 1455.09 L1994.66 1473.54 L2006.46 1473.54 L2006.46 1455.09 M2005.23 1451.02 L2011.11 1451.02 L2011.11 1473.54 L2016.04 1473.54 L2016.04 1477.43 L2011.11 1477.43 L2011.11 1485.58 L2006.46 1485.58 L2006.46 1477.43 L1990.86 1477.43 L1990.86 1472.92 L2005.23 1451.02 Z\" fill=\"#000000\" fill-rule=\"evenodd\" fill-opacity=\"1\" /><path clip-path=\"url(#clip680)\" d=\"M1298.37 1532.4 L1285.47 1549.74 L1299.03 1568.04 L1292.13 1568.04 L1281.75 1554.04 L1271.37 1568.04 L1264.47 1568.04 L1278.31 1549.39 L1265.65 1532.4 L1272.55 1532.4 L1282.01 1545.1 L1291.46 1532.4 L1298.37 1532.4 Z\" fill=\"#000000\" fill-rule=\"evenodd\" fill-opacity=\"1\" /><polyline clip-path=\"url(#clip682)\" style=\"stroke:#000000; stroke-linecap:butt; stroke-linejoin:round; stroke-width:2; stroke-opacity:0.1; fill:none\" points=\"\n",
       "  210.746,1320.12 2352.76,1320.12 \n",
       "  \"/>\n",
       "<polyline clip-path=\"url(#clip682)\" style=\"stroke:#000000; stroke-linecap:butt; stroke-linejoin:round; stroke-width:2; stroke-opacity:0.1; fill:none\" points=\"\n",
       "  210.746,988.729 2352.76,988.729 \n",
       "  \"/>\n",
       "<polyline clip-path=\"url(#clip682)\" style=\"stroke:#000000; stroke-linecap:butt; stroke-linejoin:round; stroke-width:2; stroke-opacity:0.1; fill:none\" points=\"\n",
       "  210.746,657.34 2352.76,657.34 \n",
       "  \"/>\n",
       "<polyline clip-path=\"url(#clip682)\" style=\"stroke:#000000; stroke-linecap:butt; stroke-linejoin:round; stroke-width:2; stroke-opacity:0.1; fill:none\" points=\"\n",
       "  210.746,325.951 2352.76,325.951 \n",
       "  \"/>\n",
       "<polyline clip-path=\"url(#clip680)\" style=\"stroke:#000000; stroke-linecap:butt; stroke-linejoin:round; stroke-width:4; stroke-opacity:1; fill:none\" points=\"\n",
       "  210.746,1423.18 210.746,123.472 \n",
       "  \"/>\n",
       "<polyline clip-path=\"url(#clip680)\" style=\"stroke:#000000; stroke-linecap:butt; stroke-linejoin:round; stroke-width:4; stroke-opacity:1; fill:none\" points=\"\n",
       "  210.746,1320.12 229.644,1320.12 \n",
       "  \"/>\n",
       "<polyline clip-path=\"url(#clip680)\" style=\"stroke:#000000; stroke-linecap:butt; stroke-linejoin:round; stroke-width:4; stroke-opacity:1; fill:none\" points=\"\n",
       "  210.746,988.729 229.644,988.729 \n",
       "  \"/>\n",
       "<polyline clip-path=\"url(#clip680)\" style=\"stroke:#000000; stroke-linecap:butt; stroke-linejoin:round; stroke-width:4; stroke-opacity:1; fill:none\" points=\"\n",
       "  210.746,657.34 229.644,657.34 \n",
       "  \"/>\n",
       "<polyline clip-path=\"url(#clip680)\" style=\"stroke:#000000; stroke-linecap:butt; stroke-linejoin:round; stroke-width:4; stroke-opacity:1; fill:none\" points=\"\n",
       "  210.746,325.951 229.644,325.951 \n",
       "  \"/>\n",
       "<path clip-path=\"url(#clip680)\" d=\"M114.631 1320.57 L144.306 1320.57 L144.306 1324.5 L114.631 1324.5 L114.631 1320.57 Z\" fill=\"#000000\" fill-rule=\"evenodd\" fill-opacity=\"1\" /><path clip-path=\"url(#clip680)\" d=\"M158.427 1333.46 L174.746 1333.46 L174.746 1337.4 L152.802 1337.4 L152.802 1333.46 Q155.464 1330.71 160.047 1326.08 Q164.653 1321.43 165.834 1320.08 Q168.079 1317.56 168.959 1315.82 Q169.862 1314.06 169.862 1312.37 Q169.862 1309.62 167.917 1307.88 Q165.996 1306.15 162.894 1306.15 Q160.695 1306.15 158.241 1306.91 Q155.811 1307.68 153.033 1309.23 L153.033 1304.5 Q155.857 1303.37 158.311 1302.79 Q160.765 1302.21 162.802 1302.21 Q168.172 1302.21 171.366 1304.9 Q174.561 1307.58 174.561 1312.07 Q174.561 1314.2 173.751 1316.12 Q172.964 1318.02 170.857 1320.62 Q170.278 1321.29 167.177 1324.5 Q164.075 1327.7 158.427 1333.46 Z\" fill=\"#000000\" fill-rule=\"evenodd\" fill-opacity=\"1\" /><path clip-path=\"url(#clip680)\" d=\"M114.26 989.18 L143.936 989.18 L143.936 993.115 L114.26 993.115 L114.26 989.18 Z\" fill=\"#000000\" fill-rule=\"evenodd\" fill-opacity=\"1\" /><path clip-path=\"url(#clip680)\" d=\"M154.839 1002.07 L162.477 1002.07 L162.477 975.708 L154.167 977.375 L154.167 973.116 L162.431 971.449 L167.107 971.449 L167.107 1002.07 L174.746 1002.07 L174.746 1006.01 L154.839 1006.01 L154.839 1002.07 Z\" fill=\"#000000\" fill-rule=\"evenodd\" fill-opacity=\"1\" /><path clip-path=\"url(#clip680)\" d=\"M162.802 643.139 Q159.19 643.139 157.362 646.703 Q155.556 650.245 155.556 657.375 Q155.556 664.481 157.362 668.046 Q159.19 671.587 162.802 671.587 Q166.436 671.587 168.241 668.046 Q170.07 664.481 170.07 657.375 Q170.07 650.245 168.241 646.703 Q166.436 643.139 162.802 643.139 M162.802 639.435 Q168.612 639.435 171.667 644.041 Q174.746 648.625 174.746 657.375 Q174.746 666.101 171.667 670.708 Q168.612 675.291 162.802 675.291 Q156.991 675.291 153.913 670.708 Q150.857 666.101 150.857 657.375 Q150.857 648.625 153.913 644.041 Q156.991 639.435 162.802 639.435 Z\" fill=\"#000000\" fill-rule=\"evenodd\" fill-opacity=\"1\" /><path clip-path=\"url(#clip680)\" d=\"M154.839 339.296 L162.477 339.296 L162.477 312.93 L154.167 314.597 L154.167 310.337 L162.431 308.671 L167.107 308.671 L167.107 339.296 L174.746 339.296 L174.746 343.231 L154.839 343.231 L154.839 339.296 Z\" fill=\"#000000\" fill-rule=\"evenodd\" fill-opacity=\"1\" /><path clip-path=\"url(#clip680)\" d=\"M67.3143 771.639 Q73.68 774.122 75.6216 776.477 Q77.5631 778.832 77.5631 782.779 L77.5631 787.458 L72.6615 787.458 L72.6615 784.02 Q72.6615 781.601 71.5157 780.265 Q70.3699 778.928 66.1048 777.305 L63.4312 776.254 L28.3562 790.673 L28.3562 784.466 L56.238 773.326 L28.3562 762.186 L28.3562 755.979 L67.3143 771.639 Z\" fill=\"#000000\" fill-rule=\"evenodd\" fill-opacity=\"1\" /><path clip-path=\"url(#clip680)\" d=\"M1063.16 34.0924 L1063.16 9.54393 L1070.62 9.54393 L1070.62 72.576 L1063.16 72.576 L1063.16 65.7705 Q1060.81 69.8214 1057.21 71.8063 Q1053.64 73.7508 1048.62 73.7508 Q1040.4 73.7508 1035.21 67.1883 Q1030.07 60.6258 1030.07 49.9314 Q1030.07 39.2371 1035.21 32.6746 Q1040.4 26.1121 1048.62 26.1121 Q1053.64 26.1121 1057.21 28.0971 Q1060.81 30.0415 1063.16 34.0924 M1037.76 49.9314 Q1037.76 58.1548 1041.13 62.8538 Q1044.53 67.5124 1050.44 67.5124 Q1056.36 67.5124 1059.76 62.8538 Q1063.16 58.1548 1063.16 49.9314 Q1063.16 41.7081 1059.76 37.0496 Q1056.36 32.3505 1050.44 32.3505 Q1044.53 32.3505 1041.13 37.0496 Q1037.76 41.7081 1037.76 49.9314 Z\" fill=\"#000000\" fill-rule=\"evenodd\" fill-opacity=\"1\" /><path clip-path=\"url(#clip680)\" d=\"M1106.59 49.7694 Q1097.56 49.7694 1094.07 51.8354 Q1090.59 53.9013 1090.59 58.8839 Q1090.59 62.8538 1093.18 65.2034 Q1095.81 67.5124 1100.31 67.5124 Q1106.51 67.5124 1110.24 63.1374 Q1114 58.7219 1114 51.4303 L1114 49.7694 L1106.59 49.7694 M1121.46 46.6907 L1121.46 72.576 L1114 72.576 L1114 65.6895 Q1111.45 69.8214 1107.64 71.8063 Q1103.84 73.7508 1098.33 73.7508 Q1091.36 73.7508 1087.23 69.8619 Q1083.14 65.9325 1083.14 59.3701 Q1083.14 51.7138 1088.24 47.825 Q1093.38 43.9361 1103.55 43.9361 L1114 43.9361 L1114 43.2069 Q1114 38.0623 1110.6 35.2672 Q1107.24 32.4315 1101.12 32.4315 Q1097.23 32.4315 1093.55 33.3632 Q1089.86 34.295 1086.46 36.1584 L1086.46 29.2718 Q1090.55 27.692 1094.4 26.9223 Q1098.24 26.1121 1101.89 26.1121 Q1111.73 26.1121 1116.6 31.2163 Q1121.46 36.3204 1121.46 46.6907 Z\" fill=\"#000000\" fill-rule=\"evenodd\" fill-opacity=\"1\" /><path clip-path=\"url(#clip680)\" d=\"M1144.18 14.324 L1144.18 27.2059 L1159.54 27.2059 L1159.54 32.9987 L1144.18 32.9987 L1144.18 57.6282 Q1144.18 63.1779 1145.68 64.7578 Q1147.22 66.3376 1151.88 66.3376 L1159.54 66.3376 L1159.54 72.576 L1151.88 72.576 Q1143.25 72.576 1139.97 69.3758 Q1136.69 66.1351 1136.69 57.6282 L1136.69 32.9987 L1131.22 32.9987 L1131.22 27.2059 L1136.69 27.2059 L1136.69 14.324 L1144.18 14.324 Z\" fill=\"#000000\" fill-rule=\"evenodd\" fill-opacity=\"1\" /><path clip-path=\"url(#clip680)\" d=\"M1189.96 49.7694 Q1180.92 49.7694 1177.44 51.8354 Q1173.96 53.9013 1173.96 58.8839 Q1173.96 62.8538 1176.55 65.2034 Q1179.18 67.5124 1183.68 67.5124 Q1189.88 67.5124 1193.6 63.1374 Q1197.37 58.7219 1197.37 51.4303 L1197.37 49.7694 L1189.96 49.7694 M1204.82 46.6907 L1204.82 72.576 L1197.37 72.576 L1197.37 65.6895 Q1194.82 69.8214 1191.01 71.8063 Q1187.2 73.7508 1181.69 73.7508 Q1174.73 73.7508 1170.59 69.8619 Q1166.5 65.9325 1166.5 59.3701 Q1166.5 51.7138 1171.61 47.825 Q1176.75 43.9361 1186.92 43.9361 L1197.37 43.9361 L1197.37 43.2069 Q1197.37 38.0623 1193.97 35.2672 Q1190.61 32.4315 1184.49 32.4315 Q1180.6 32.4315 1176.91 33.3632 Q1173.23 34.295 1169.82 36.1584 L1169.82 29.2718 Q1173.92 27.692 1177.76 26.9223 Q1181.61 26.1121 1185.26 26.1121 Q1195.1 26.1121 1199.96 31.2163 Q1204.82 36.3204 1204.82 46.6907 Z\" fill=\"#000000\" fill-rule=\"evenodd\" fill-opacity=\"1\" /><path clip-path=\"url(#clip680)\" d=\"M1264.45 9.62495 Q1259.03 18.942 1256.39 28.0566 Q1253.76 37.1711 1253.76 46.5287 Q1253.76 55.8863 1256.39 65.0818 Q1259.07 74.2369 1264.45 83.5134 L1257.97 83.5134 Q1251.9 73.9938 1248.86 64.7983 Q1245.86 55.6027 1245.86 46.5287 Q1245.86 37.4952 1248.86 28.3401 Q1251.86 19.1851 1257.97 9.62495 L1264.45 9.62495 Z\" fill=\"#000000\" fill-rule=\"evenodd\" fill-opacity=\"1\" /><path clip-path=\"url(#clip680)\" d=\"M1279.24 12.096 L1290.26 12.096 L1317.07 62.6918 L1317.07 12.096 L1325.01 12.096 L1325.01 72.576 L1314 72.576 L1287.18 21.9802 L1287.18 72.576 L1279.24 72.576 L1279.24 12.096 Z\" fill=\"#000000\" fill-rule=\"evenodd\" fill-opacity=\"1\" /><path clip-path=\"url(#clip680)\" d=\"M1368.32 34.9026 L1420.25 34.9026 L1420.25 41.7081 L1368.32 41.7081 L1368.32 34.9026 M1368.32 51.4303 L1420.25 51.4303 L1420.25 58.3168 L1368.32 58.3168 L1368.32 51.4303 Z\" fill=\"#000000\" fill-rule=\"evenodd\" fill-opacity=\"1\" /><path clip-path=\"url(#clip680)\" d=\"M1489.08 39.9662 Q1494.95 41.222 1498.23 45.1919 Q1501.55 49.1618 1501.55 54.9951 Q1501.55 63.9476 1495.4 68.8492 Q1489.24 73.7508 1477.9 73.7508 Q1474.09 73.7508 1470.04 72.9811 Q1466.03 72.2519 1461.73 70.7531 L1461.73 62.8538 Q1465.14 64.8388 1469.19 65.8515 Q1473.24 66.8642 1477.65 66.8642 Q1485.35 66.8642 1489.36 63.826 Q1493.41 60.7879 1493.41 54.9951 Q1493.41 49.6479 1489.64 46.6502 Q1485.92 43.612 1479.23 43.612 L1472.18 43.612 L1472.18 36.8875 L1479.56 36.8875 Q1485.59 36.8875 1488.79 34.4975 Q1491.99 32.067 1491.99 27.5299 Q1491.99 22.8714 1488.67 20.4004 Q1485.39 17.8888 1479.23 17.8888 Q1475.87 17.8888 1472.02 18.618 Q1468.17 19.3471 1463.56 20.8865 L1463.56 13.5948 Q1468.21 12.2985 1472.26 11.6504 Q1476.36 11.0023 1479.96 11.0023 Q1489.28 11.0023 1494.71 15.2557 Q1500.14 19.4686 1500.14 26.6793 Q1500.14 31.7024 1497.26 35.1862 Q1494.38 38.6294 1489.08 39.9662 Z\" fill=\"#000000\" fill-rule=\"evenodd\" fill-opacity=\"1\" /><path clip-path=\"url(#clip680)\" d=\"M1514.84 9.62495 L1521.32 9.62495 Q1527.4 19.1851 1530.4 28.3401 Q1533.43 37.4952 1533.43 46.5287 Q1533.43 55.6027 1530.4 64.7983 Q1527.4 73.9938 1521.32 83.5134 L1514.84 83.5134 Q1520.23 74.2369 1522.86 65.0818 Q1525.53 55.8863 1525.53 46.5287 Q1525.53 37.1711 1522.86 28.0566 Q1520.23 18.942 1514.84 9.62495 Z\" fill=\"#000000\" fill-rule=\"evenodd\" fill-opacity=\"1\" /><circle clip-path=\"url(#clip682)\" cx=\"271.369\" cy=\"1386.4\" r=\"14\" fill=\"#009af9\" fill-rule=\"evenodd\" fill-opacity=\"1\" stroke=\"#000000\" stroke-opacity=\"1\" stroke-width=\"3.2\"/>\n",
       "<circle clip-path=\"url(#clip682)\" cx=\"1137.41\" cy=\"988.729\" r=\"14\" fill=\"#009af9\" fill-rule=\"evenodd\" fill-opacity=\"1\" stroke=\"#000000\" stroke-opacity=\"1\" stroke-width=\"3.2\"/>\n",
       "<circle clip-path=\"url(#clip682)\" cx=\"2292.13\" cy=\"160.256\" r=\"14\" fill=\"#009af9\" fill-rule=\"evenodd\" fill-opacity=\"1\" stroke=\"#000000\" stroke-opacity=\"1\" stroke-width=\"3.2\"/>\n",
       "</svg>\n"
      ]
     },
     "execution_count": 2,
     "metadata": {},
     "output_type": "execute_result"
    }
   ],
   "source": [
    "X_obs = [\n",
    "    -2.0\n",
    "    1.0\n",
    "    5.0\n",
    "]\n",
    "\n",
    "Y_obs = [\n",
    "    -2.2\n",
    "    -1.0\n",
    "    1.5\n",
    "]\n",
    "\n",
    "scatter(X_obs, Y_obs, xlab=\"x\", ylab=\"y\", label=:none, title=\"data (N = $(length(X_obs)))\")"
   ]
  },
  {
   "cell_type": "markdown",
   "id": "fb597c1b",
   "metadata": {},
   "source": [
    "## ラプラス近似"
   ]
  },
  {
   "cell_type": "code",
   "execution_count": 3,
   "id": "0e940a3c",
   "metadata": {},
   "outputs": [
    {
     "data": {
      "text/plain": [
       "log_joint (generic function with 1 method)"
      ]
     },
     "execution_count": 3,
     "metadata": {},
     "output_type": "execute_result"
    }
   ],
   "source": [
    "# 非正規化対数事後分布\n",
    "log_joint(w₁, X, Y, w₂, σ, μ₁, σ₁) =\n",
    "　　 sum(logpdf.(Normal.(w₁ * X .+ w₂, σ), Y)) +\n",
    "    logpdf(Normal(μ₁, σ₁), w₁)"
   ]
  },
  {
   "cell_type": "code",
   "execution_count": 4,
   "id": "5bb3db54",
   "metadata": {},
   "outputs": [
    {
     "data": {
      "text/plain": [
       "gradient_method_1dim (generic function with 1 method)"
      ]
     },
     "execution_count": 4,
     "metadata": {},
     "output_type": "execute_result"
    }
   ],
   "source": [
    "# 勾配法（1dim）\n",
    "function gradient_method_1dim(f, x_init, η, maxiter)\n",
    "    fʼ(x) = ForwardDiff.derivative(f, x)\n",
    "    x_seq = Array{typeof(x_init), 1}(undef, maxiter)\n",
    "    x_seq[1] = x_init\n",
    "    for i in 2:maxiter\n",
    "        x_seq[i] = x_seq[i-1] + η * fʼ(x_seq[i-1])\n",
    "    end\n",
    "    x_seq\n",
    "end"
   ]
  },
  {
   "cell_type": "code",
   "execution_count": 5,
   "id": "b82cb3e6",
   "metadata": {},
   "outputs": [
    {
     "data": {
      "text/plain": [
       "inference_wrapper_gd_1dim (generic function with 1 method)"
      ]
     },
     "execution_count": 5,
     "metadata": {},
     "output_type": "execute_result"
    }
   ],
   "source": [
    "# 最適化のラッパー関数の定義\n",
    "function inference_wrapper_gd_1dim(log_joint, params, w₁_init, η, maxiter)\n",
    "    ulp(w₁) = log_joint(w₁, params...)\n",
    "    w₁_seq = gradient_method_1dim(ulp, w₁_init, η, maxiter)\n",
    "    w₁_seq\n",
    "end"
   ]
  },
  {
   "cell_type": "code",
   "execution_count": 6,
   "id": "90daeeac",
   "metadata": {},
   "outputs": [],
   "source": [
    "# 切片はゼロで固定\n",
    "w₂ = 0\n",
    "\n",
    "# yに付加されるノイズの標準偏差\n",
    "σ = 1.0\n",
    "\n",
    "# 事前分布のパラメータ\n",
    "μ₁ = 0.0\n",
    "σ₁ = 10.0\n",
    "\n",
    "params = (X_obs, Y_obs, w₂, σ, μ₁, σ₁)\n",
    "\n",
    "# 最適化パラメータ\n",
    "w₁_init = 0.0\n",
    "η = 0.01\n",
    "maxiter = 100\n",
    "\n",
    "# 最適化の実施\n",
    "w₁_seq = inference_wrapper_gd_1dim(log_joint, params, w₁_init, η, maxiter);"
   ]
  },
  {
   "cell_type": "code",
   "execution_count": 7,
   "id": "8dcf182a",
   "metadata": {},
   "outputs": [],
   "source": [
    "# 近似分布用の平均を求める\n",
    "μ_approx = w₁_seq[end];"
   ]
  },
  {
   "cell_type": "code",
   "execution_count": 8,
   "id": "3c04f686",
   "metadata": {},
   "outputs": [
    {
     "data": {
      "text/plain": [
       "ulp (generic function with 1 method)"
      ]
     },
     "execution_count": 8,
     "metadata": {},
     "output_type": "execute_result"
    }
   ],
   "source": [
    "ulp(w₁) =\n",
    "　　 sum(logpdf.(Normal.(w₁ * X_obs .+ w₂, σ), Y_obs)) +\n",
    "    logpdf(Normal(μ₁, σ₁), w₁)"
   ]
  },
  {
   "cell_type": "code",
   "execution_count": 9,
   "id": "141d2b57",
   "metadata": {},
   "outputs": [],
   "source": [
    "# 2階微分から分散を求める\n",
    "grad(x) = ForwardDiff.derivative(ulp, x)\n",
    "hessian(x) = ForwardDiff.derivative(grad, x)\n",
    "σ_approx = √(inv(-hessian(μ_approx)));"
   ]
  },
  {
   "cell_type": "code",
   "execution_count": 10,
   "id": "295d80bc",
   "metadata": {},
   "outputs": [
    {
     "data": {
      "image/svg+xml": [
       "<?xml version=\"1.0\" encoding=\"utf-8\"?>\n",
       "<svg xmlns=\"http://www.w3.org/2000/svg\" xmlns:xlink=\"http://www.w3.org/1999/xlink\" width=\"600\" height=\"400\" viewBox=\"0 0 2400 1600\">\n",
       "<defs>\n",
       "  <clipPath id=\"clip720\">\n",
       "    <rect x=\"0\" y=\"0\" width=\"2400\" height=\"1600\"/>\n",
       "  </clipPath>\n",
       "</defs>\n",
       "<path clip-path=\"url(#clip720)\" d=\"\n",
       "M0 1600 L2400 1600 L2400 0 L0 0  Z\n",
       "  \" fill=\"#ffffff\" fill-rule=\"evenodd\" fill-opacity=\"1\"/>\n",
       "<defs>\n",
       "  <clipPath id=\"clip721\">\n",
       "    <rect x=\"480\" y=\"0\" width=\"1681\" height=\"1600\"/>\n",
       "  </clipPath>\n",
       "</defs>\n",
       "<path clip-path=\"url(#clip720)\" d=\"\n",
       "M219.38 1423.18 L2352.76 1423.18 L2352.76 123.472 L219.38 123.472  Z\n",
       "  \" fill=\"#ffffff\" fill-rule=\"evenodd\" fill-opacity=\"1\"/>\n",
       "<defs>\n",
       "  <clipPath id=\"clip722\">\n",
       "    <rect x=\"219\" y=\"123\" width=\"2134\" height=\"1301\"/>\n",
       "  </clipPath>\n",
       "</defs>\n",
       "<polyline clip-path=\"url(#clip722)\" style=\"stroke:#000000; stroke-linecap:butt; stroke-linejoin:round; stroke-width:2; stroke-opacity:0.1; fill:none\" points=\"\n",
       "  481.021,1423.18 481.021,123.472 \n",
       "  \"/>\n",
       "<polyline clip-path=\"url(#clip722)\" style=\"stroke:#000000; stroke-linecap:butt; stroke-linejoin:round; stroke-width:2; stroke-opacity:0.1; fill:none\" points=\"\n",
       "  883.544,1423.18 883.544,123.472 \n",
       "  \"/>\n",
       "<polyline clip-path=\"url(#clip722)\" style=\"stroke:#000000; stroke-linecap:butt; stroke-linejoin:round; stroke-width:2; stroke-opacity:0.1; fill:none\" points=\"\n",
       "  1286.07,1423.18 1286.07,123.472 \n",
       "  \"/>\n",
       "<polyline clip-path=\"url(#clip722)\" style=\"stroke:#000000; stroke-linecap:butt; stroke-linejoin:round; stroke-width:2; stroke-opacity:0.1; fill:none\" points=\"\n",
       "  1688.59,1423.18 1688.59,123.472 \n",
       "  \"/>\n",
       "<polyline clip-path=\"url(#clip722)\" style=\"stroke:#000000; stroke-linecap:butt; stroke-linejoin:round; stroke-width:2; stroke-opacity:0.1; fill:none\" points=\"\n",
       "  2091.12,1423.18 2091.12,123.472 \n",
       "  \"/>\n",
       "<polyline clip-path=\"url(#clip720)\" style=\"stroke:#000000; stroke-linecap:butt; stroke-linejoin:round; stroke-width:4; stroke-opacity:1; fill:none\" points=\"\n",
       "  219.38,1423.18 2352.76,1423.18 \n",
       "  \"/>\n",
       "<polyline clip-path=\"url(#clip720)\" style=\"stroke:#000000; stroke-linecap:butt; stroke-linejoin:round; stroke-width:4; stroke-opacity:1; fill:none\" points=\"\n",
       "  481.021,1423.18 481.021,1404.28 \n",
       "  \"/>\n",
       "<polyline clip-path=\"url(#clip720)\" style=\"stroke:#000000; stroke-linecap:butt; stroke-linejoin:round; stroke-width:4; stroke-opacity:1; fill:none\" points=\"\n",
       "  883.544,1423.18 883.544,1404.28 \n",
       "  \"/>\n",
       "<polyline clip-path=\"url(#clip720)\" style=\"stroke:#000000; stroke-linecap:butt; stroke-linejoin:round; stroke-width:4; stroke-opacity:1; fill:none\" points=\"\n",
       "  1286.07,1423.18 1286.07,1404.28 \n",
       "  \"/>\n",
       "<polyline clip-path=\"url(#clip720)\" style=\"stroke:#000000; stroke-linecap:butt; stroke-linejoin:round; stroke-width:4; stroke-opacity:1; fill:none\" points=\"\n",
       "  1688.59,1423.18 1688.59,1404.28 \n",
       "  \"/>\n",
       "<polyline clip-path=\"url(#clip720)\" style=\"stroke:#000000; stroke-linecap:butt; stroke-linejoin:round; stroke-width:4; stroke-opacity:1; fill:none\" points=\"\n",
       "  2091.12,1423.18 2091.12,1404.28 \n",
       "  \"/>\n",
       "<path clip-path=\"url(#clip720)\" d=\"M449.921 1468.75 L479.597 1468.75 L479.597 1472.69 L449.921 1472.69 L449.921 1468.75 Z\" fill=\"#000000\" fill-rule=\"evenodd\" fill-opacity=\"1\" /><path clip-path=\"url(#clip720)\" d=\"M502.537 1455.09 L490.731 1473.54 L502.537 1473.54 L502.537 1455.09 M501.31 1451.02 L507.189 1451.02 L507.189 1473.54 L512.12 1473.54 L512.12 1477.43 L507.189 1477.43 L507.189 1485.58 L502.537 1485.58 L502.537 1477.43 L486.935 1477.43 L486.935 1472.92 L501.31 1451.02 Z\" fill=\"#000000\" fill-rule=\"evenodd\" fill-opacity=\"1\" /><path clip-path=\"url(#clip720)\" d=\"M853.487 1468.75 L883.162 1468.75 L883.162 1472.69 L853.487 1472.69 L853.487 1468.75 Z\" fill=\"#000000\" fill-rule=\"evenodd\" fill-opacity=\"1\" /><path clip-path=\"url(#clip720)\" d=\"M897.283 1481.64 L913.602 1481.64 L913.602 1485.58 L891.658 1485.58 L891.658 1481.64 Q894.32 1478.89 898.903 1474.26 Q903.509 1469.61 904.69 1468.27 Q906.935 1465.74 907.815 1464.01 Q908.718 1462.25 908.718 1460.56 Q908.718 1457.8 906.773 1456.07 Q904.852 1454.33 901.75 1454.33 Q899.551 1454.33 897.097 1455.09 Q894.667 1455.86 891.889 1457.41 L891.889 1452.69 Q894.713 1451.55 897.167 1450.97 Q899.621 1450.39 901.658 1450.39 Q907.028 1450.39 910.222 1453.08 Q913.417 1455.77 913.417 1460.26 Q913.417 1462.39 912.607 1464.31 Q911.82 1466.2 909.713 1468.8 Q909.134 1469.47 906.033 1472.69 Q902.931 1475.88 897.283 1481.64 Z\" fill=\"#000000\" fill-rule=\"evenodd\" fill-opacity=\"1\" /><path clip-path=\"url(#clip720)\" d=\"M1286.07 1454.1 Q1282.46 1454.1 1280.63 1457.66 Q1278.82 1461.2 1278.82 1468.33 Q1278.82 1475.44 1280.63 1479.01 Q1282.46 1482.55 1286.07 1482.55 Q1289.7 1482.55 1291.51 1479.01 Q1293.34 1475.44 1293.34 1468.33 Q1293.34 1461.2 1291.51 1457.66 Q1289.7 1454.1 1286.07 1454.1 M1286.07 1450.39 Q1291.88 1450.39 1294.93 1455 Q1298.01 1459.58 1298.01 1468.33 Q1298.01 1477.06 1294.93 1481.67 Q1291.88 1486.25 1286.07 1486.25 Q1280.26 1486.25 1277.18 1481.67 Q1274.12 1477.06 1274.12 1468.33 Q1274.12 1459.58 1277.18 1455 Q1280.26 1450.39 1286.07 1450.39 Z\" fill=\"#000000\" fill-rule=\"evenodd\" fill-opacity=\"1\" /><path clip-path=\"url(#clip720)\" d=\"M1683.24 1481.64 L1699.56 1481.64 L1699.56 1485.58 L1677.62 1485.58 L1677.62 1481.64 Q1680.28 1478.89 1684.86 1474.26 Q1689.47 1469.61 1690.65 1468.27 Q1692.9 1465.74 1693.78 1464.01 Q1694.68 1462.25 1694.68 1460.56 Q1694.68 1457.8 1692.74 1456.07 Q1690.81 1454.33 1687.71 1454.33 Q1685.51 1454.33 1683.06 1455.09 Q1680.63 1455.86 1677.85 1457.41 L1677.85 1452.69 Q1680.68 1451.55 1683.13 1450.97 Q1685.58 1450.39 1687.62 1450.39 Q1692.99 1450.39 1696.18 1453.08 Q1699.38 1455.77 1699.38 1460.26 Q1699.38 1462.39 1698.57 1464.31 Q1697.78 1466.2 1695.68 1468.8 Q1695.1 1469.47 1691.99 1472.69 Q1688.89 1475.88 1683.24 1481.64 Z\" fill=\"#000000\" fill-rule=\"evenodd\" fill-opacity=\"1\" /><path clip-path=\"url(#clip720)\" d=\"M2094.12 1455.09 L2082.32 1473.54 L2094.12 1473.54 L2094.12 1455.09 M2092.9 1451.02 L2098.78 1451.02 L2098.78 1473.54 L2103.71 1473.54 L2103.71 1477.43 L2098.78 1477.43 L2098.78 1485.58 L2094.12 1485.58 L2094.12 1477.43 L2078.52 1477.43 L2078.52 1472.92 L2092.9 1451.02 Z\" fill=\"#000000\" fill-rule=\"evenodd\" fill-opacity=\"1\" /><path clip-path=\"url(#clip720)\" d=\"M1249.5 1532.4 L1255.35 1532.4 L1262.67 1560.21 L1269.96 1532.4 L1276.87 1532.4 L1284.19 1560.21 L1291.48 1532.4 L1297.34 1532.4 L1288.01 1568.04 L1281.1 1568.04 L1273.43 1538.83 L1265.73 1568.04 L1258.82 1568.04 L1249.5 1532.4 Z\" fill=\"#000000\" fill-rule=\"evenodd\" fill-opacity=\"1\" /><path clip-path=\"url(#clip720)\" d=\"M1305.04 1564.54 L1311.53 1564.54 L1311.53 1545.1 L1304.43 1546.4 L1304.43 1542.71 L1311.75 1541.47 L1316.11 1541.47 L1316.11 1564.54 L1322.64 1564.54 L1322.64 1568.04 L1305.04 1568.04 L1305.04 1564.54 Z\" fill=\"#000000\" fill-rule=\"evenodd\" fill-opacity=\"1\" /><polyline clip-path=\"url(#clip722)\" style=\"stroke:#000000; stroke-linecap:butt; stroke-linejoin:round; stroke-width:2; stroke-opacity:0.1; fill:none\" points=\"\n",
       "  219.38,1386.4 2352.76,1386.4 \n",
       "  \"/>\n",
       "<polyline clip-path=\"url(#clip722)\" style=\"stroke:#000000; stroke-linecap:butt; stroke-linejoin:round; stroke-width:2; stroke-opacity:0.1; fill:none\" points=\"\n",
       "  219.38,1105.48 2352.76,1105.48 \n",
       "  \"/>\n",
       "<polyline clip-path=\"url(#clip722)\" style=\"stroke:#000000; stroke-linecap:butt; stroke-linejoin:round; stroke-width:2; stroke-opacity:0.1; fill:none\" points=\"\n",
       "  219.38,824.563 2352.76,824.563 \n",
       "  \"/>\n",
       "<polyline clip-path=\"url(#clip722)\" style=\"stroke:#000000; stroke-linecap:butt; stroke-linejoin:round; stroke-width:2; stroke-opacity:0.1; fill:none\" points=\"\n",
       "  219.38,543.647 2352.76,543.647 \n",
       "  \"/>\n",
       "<polyline clip-path=\"url(#clip722)\" style=\"stroke:#000000; stroke-linecap:butt; stroke-linejoin:round; stroke-width:2; stroke-opacity:0.1; fill:none\" points=\"\n",
       "  219.38,262.73 2352.76,262.73 \n",
       "  \"/>\n",
       "<polyline clip-path=\"url(#clip720)\" style=\"stroke:#000000; stroke-linecap:butt; stroke-linejoin:round; stroke-width:4; stroke-opacity:1; fill:none\" points=\"\n",
       "  219.38,1423.18 219.38,123.472 \n",
       "  \"/>\n",
       "<polyline clip-path=\"url(#clip720)\" style=\"stroke:#000000; stroke-linecap:butt; stroke-linejoin:round; stroke-width:4; stroke-opacity:1; fill:none\" points=\"\n",
       "  219.38,1386.4 238.278,1386.4 \n",
       "  \"/>\n",
       "<polyline clip-path=\"url(#clip720)\" style=\"stroke:#000000; stroke-linecap:butt; stroke-linejoin:round; stroke-width:4; stroke-opacity:1; fill:none\" points=\"\n",
       "  219.38,1105.48 238.278,1105.48 \n",
       "  \"/>\n",
       "<polyline clip-path=\"url(#clip720)\" style=\"stroke:#000000; stroke-linecap:butt; stroke-linejoin:round; stroke-width:4; stroke-opacity:1; fill:none\" points=\"\n",
       "  219.38,824.563 238.278,824.563 \n",
       "  \"/>\n",
       "<polyline clip-path=\"url(#clip720)\" style=\"stroke:#000000; stroke-linecap:butt; stroke-linejoin:round; stroke-width:4; stroke-opacity:1; fill:none\" points=\"\n",
       "  219.38,543.647 238.278,543.647 \n",
       "  \"/>\n",
       "<polyline clip-path=\"url(#clip720)\" style=\"stroke:#000000; stroke-linecap:butt; stroke-linejoin:round; stroke-width:4; stroke-opacity:1; fill:none\" points=\"\n",
       "  219.38,262.73 238.278,262.73 \n",
       "  \"/>\n",
       "<path clip-path=\"url(#clip720)\" d=\"M126.205 1372.19 Q122.593 1372.19 120.765 1375.76 Q118.959 1379.3 118.959 1386.43 Q118.959 1393.54 120.765 1397.1 Q122.593 1400.64 126.205 1400.64 Q129.839 1400.64 131.644 1397.1 Q133.473 1393.54 133.473 1386.43 Q133.473 1379.3 131.644 1375.76 Q129.839 1372.19 126.205 1372.19 M126.205 1368.49 Q132.015 1368.49 135.07 1373.1 Q138.149 1377.68 138.149 1386.43 Q138.149 1395.16 135.07 1399.76 Q132.015 1404.35 126.205 1404.35 Q120.394 1404.35 117.316 1399.76 Q114.26 1395.16 114.26 1386.43 Q114.26 1377.68 117.316 1373.1 Q120.394 1368.49 126.205 1368.49 Z\" fill=\"#000000\" fill-rule=\"evenodd\" fill-opacity=\"1\" /><path clip-path=\"url(#clip720)\" d=\"M146.366 1397.8 L151.251 1397.8 L151.251 1403.68 L146.366 1403.68 L146.366 1397.8 Z\" fill=\"#000000\" fill-rule=\"evenodd\" fill-opacity=\"1\" /><path clip-path=\"url(#clip720)\" d=\"M171.436 1372.19 Q167.825 1372.19 165.996 1375.76 Q164.19 1379.3 164.19 1386.43 Q164.19 1393.54 165.996 1397.1 Q167.825 1400.64 171.436 1400.64 Q175.07 1400.64 176.876 1397.1 Q178.704 1393.54 178.704 1386.43 Q178.704 1379.3 176.876 1375.76 Q175.07 1372.19 171.436 1372.19 M171.436 1368.49 Q177.246 1368.49 180.301 1373.1 Q183.38 1377.68 183.38 1386.43 Q183.38 1395.16 180.301 1399.76 Q177.246 1404.35 171.436 1404.35 Q165.626 1404.35 162.547 1399.76 Q159.491 1395.16 159.491 1386.43 Q159.491 1377.68 162.547 1373.1 Q165.626 1368.49 171.436 1368.49 Z\" fill=\"#000000\" fill-rule=\"evenodd\" fill-opacity=\"1\" /><path clip-path=\"url(#clip720)\" d=\"M127.2 1091.28 Q123.589 1091.28 121.76 1094.84 Q119.955 1098.38 119.955 1105.51 Q119.955 1112.62 121.76 1116.19 Q123.589 1119.73 127.2 1119.73 Q130.834 1119.73 132.64 1116.19 Q134.468 1112.62 134.468 1105.51 Q134.468 1098.38 132.64 1094.84 Q130.834 1091.28 127.2 1091.28 M127.2 1087.57 Q133.01 1087.57 136.066 1092.18 Q139.144 1096.76 139.144 1105.51 Q139.144 1114.24 136.066 1118.85 Q133.01 1123.43 127.2 1123.43 Q121.39 1123.43 118.311 1118.85 Q115.256 1114.24 115.256 1105.51 Q115.256 1096.76 118.311 1092.18 Q121.39 1087.57 127.2 1087.57 Z\" fill=\"#000000\" fill-rule=\"evenodd\" fill-opacity=\"1\" /><path clip-path=\"url(#clip720)\" d=\"M147.362 1116.88 L152.246 1116.88 L152.246 1122.76 L147.362 1122.76 L147.362 1116.88 Z\" fill=\"#000000\" fill-rule=\"evenodd\" fill-opacity=\"1\" /><path clip-path=\"url(#clip720)\" d=\"M162.477 1088.2 L180.834 1088.2 L180.834 1092.13 L166.76 1092.13 L166.76 1100.61 Q167.778 1100.26 168.797 1100.1 Q169.815 1099.91 170.834 1099.91 Q176.621 1099.91 180.001 1103.08 Q183.38 1106.25 183.38 1111.67 Q183.38 1117.25 179.908 1120.35 Q176.436 1123.43 170.116 1123.43 Q167.94 1123.43 165.672 1123.06 Q163.427 1122.69 161.019 1121.95 L161.019 1117.25 Q163.102 1118.38 165.325 1118.94 Q167.547 1119.5 170.024 1119.5 Q174.028 1119.5 176.366 1117.39 Q178.704 1115.28 178.704 1111.67 Q178.704 1108.06 176.366 1105.95 Q174.028 1103.85 170.024 1103.85 Q168.149 1103.85 166.274 1104.26 Q164.422 1104.68 162.477 1105.56 L162.477 1088.2 Z\" fill=\"#000000\" fill-rule=\"evenodd\" fill-opacity=\"1\" /><path clip-path=\"url(#clip720)\" d=\"M117.015 837.908 L124.654 837.908 L124.654 811.542 L116.343 813.209 L116.343 808.95 L124.607 807.283 L129.283 807.283 L129.283 837.908 L136.922 837.908 L136.922 841.843 L117.015 841.843 L117.015 837.908 Z\" fill=\"#000000\" fill-rule=\"evenodd\" fill-opacity=\"1\" /><path clip-path=\"url(#clip720)\" d=\"M146.366 835.963 L151.251 835.963 L151.251 841.843 L146.366 841.843 L146.366 835.963 Z\" fill=\"#000000\" fill-rule=\"evenodd\" fill-opacity=\"1\" /><path clip-path=\"url(#clip720)\" d=\"M171.436 810.362 Q167.825 810.362 165.996 813.926 Q164.19 817.468 164.19 824.598 Q164.19 831.704 165.996 835.269 Q167.825 838.811 171.436 838.811 Q175.07 838.811 176.876 835.269 Q178.704 831.704 178.704 824.598 Q178.704 817.468 176.876 813.926 Q175.07 810.362 171.436 810.362 M171.436 806.658 Q177.246 806.658 180.301 811.264 Q183.38 815.848 183.38 824.598 Q183.38 833.325 180.301 837.931 Q177.246 842.514 171.436 842.514 Q165.626 842.514 162.547 837.931 Q159.491 833.325 159.491 824.598 Q159.491 815.848 162.547 811.264 Q165.626 806.658 171.436 806.658 Z\" fill=\"#000000\" fill-rule=\"evenodd\" fill-opacity=\"1\" /><path clip-path=\"url(#clip720)\" d=\"M118.01 556.991 L125.649 556.991 L125.649 530.626 L117.339 532.293 L117.339 528.033 L125.603 526.367 L130.279 526.367 L130.279 556.991 L137.917 556.991 L137.917 560.927 L118.01 560.927 L118.01 556.991 Z\" fill=\"#000000\" fill-rule=\"evenodd\" fill-opacity=\"1\" /><path clip-path=\"url(#clip720)\" d=\"M147.362 555.047 L152.246 555.047 L152.246 560.927 L147.362 560.927 L147.362 555.047 Z\" fill=\"#000000\" fill-rule=\"evenodd\" fill-opacity=\"1\" /><path clip-path=\"url(#clip720)\" d=\"M162.477 526.367 L180.834 526.367 L180.834 530.302 L166.76 530.302 L166.76 538.774 Q167.778 538.427 168.797 538.265 Q169.815 538.08 170.834 538.08 Q176.621 538.08 180.001 541.251 Q183.38 544.422 183.38 549.839 Q183.38 555.417 179.908 558.519 Q176.436 561.598 170.116 561.598 Q167.94 561.598 165.672 561.228 Q163.427 560.857 161.019 560.116 L161.019 555.417 Q163.102 556.552 165.325 557.107 Q167.547 557.663 170.024 557.663 Q174.028 557.663 176.366 555.556 Q178.704 553.45 178.704 549.839 Q178.704 546.228 176.366 544.121 Q174.028 542.015 170.024 542.015 Q168.149 542.015 166.274 542.431 Q164.422 542.848 162.477 543.728 L162.477 526.367 Z\" fill=\"#000000\" fill-rule=\"evenodd\" fill-opacity=\"1\" /><path clip-path=\"url(#clip720)\" d=\"M120.232 276.075 L136.552 276.075 L136.552 280.01 L114.607 280.01 L114.607 276.075 Q117.269 273.321 121.853 268.691 Q126.459 264.038 127.64 262.696 Q129.885 260.172 130.765 258.436 Q131.667 256.677 131.667 254.987 Q131.667 252.233 129.723 250.497 Q127.802 248.76 124.7 248.76 Q122.501 248.76 120.047 249.524 Q117.617 250.288 114.839 251.839 L114.839 247.117 Q117.663 245.983 120.117 245.404 Q122.57 244.825 124.607 244.825 Q129.978 244.825 133.172 247.51 Q136.367 250.196 136.367 254.686 Q136.367 256.816 135.556 258.737 Q134.769 260.635 132.663 263.228 Q132.084 263.899 128.982 267.117 Q125.88 270.311 120.232 276.075 Z\" fill=\"#000000\" fill-rule=\"evenodd\" fill-opacity=\"1\" /><path clip-path=\"url(#clip720)\" d=\"M146.366 274.131 L151.251 274.131 L151.251 280.01 L146.366 280.01 L146.366 274.131 Z\" fill=\"#000000\" fill-rule=\"evenodd\" fill-opacity=\"1\" /><path clip-path=\"url(#clip720)\" d=\"M171.436 248.529 Q167.825 248.529 165.996 252.094 Q164.19 255.635 164.19 262.765 Q164.19 269.871 165.996 273.436 Q167.825 276.978 171.436 276.978 Q175.07 276.978 176.876 273.436 Q178.704 269.871 178.704 262.765 Q178.704 255.635 176.876 252.094 Q175.07 248.529 171.436 248.529 M171.436 244.825 Q177.246 244.825 180.301 249.432 Q183.38 254.015 183.38 262.765 Q183.38 271.492 180.301 276.098 Q177.246 280.682 171.436 280.682 Q165.626 280.682 162.547 276.098 Q159.491 271.492 159.491 262.765 Q159.491 254.015 162.547 249.432 Q165.626 244.825 171.436 244.825 Z\" fill=\"#000000\" fill-rule=\"evenodd\" fill-opacity=\"1\" /><path clip-path=\"url(#clip720)\" d=\"M33.7671 864.053 L14.479 864.053 L14.479 858.197 L64.0042 858.197 L64.0042 864.053 L58.657 864.053 Q61.8398 865.899 63.3994 868.732 Q64.9272 871.533 64.9272 875.48 Q64.9272 881.941 59.771 886.015 Q54.6147 890.057 46.212 890.057 Q37.8093 890.057 32.6531 886.015 Q27.4968 881.941 27.4968 875.48 Q27.4968 871.533 29.0564 868.732 Q30.5842 865.899 33.7671 864.053 M46.212 884.01 Q52.6732 884.01 56.3653 881.368 Q60.0256 878.694 60.0256 874.047 Q60.0256 869.4 56.3653 866.727 Q52.6732 864.053 46.212 864.053 Q39.7508 864.053 36.0905 866.727 Q32.3984 869.4 32.3984 874.047 Q32.3984 878.694 36.0905 881.368 Q39.7508 884.01 46.212 884.01 Z\" fill=\"#000000\" fill-rule=\"evenodd\" fill-opacity=\"1\" /><path clip-path=\"url(#clip720)\" d=\"M44.7161 815.642 L47.5806 815.642 L47.5806 842.569 Q53.6281 842.187 56.8109 838.941 Q59.9619 835.662 59.9619 829.838 Q59.9619 826.464 59.1344 823.313 Q58.3069 820.13 56.6518 817.011 L62.1899 817.011 Q63.5267 820.162 64.227 823.472 Q64.9272 826.782 64.9272 830.188 Q64.9272 838.718 59.9619 843.715 Q54.9967 848.68 46.5303 848.68 Q37.7774 848.68 32.6531 843.969 Q27.4968 839.227 27.4968 831.206 Q27.4968 824.013 32.1438 819.843 Q36.7589 815.642 44.7161 815.642 M42.9973 821.498 Q38.1912 821.562 35.3266 824.204 Q32.4621 826.814 32.4621 831.143 Q32.4621 836.044 35.2312 839.004 Q38.0002 841.932 43.0292 842.378 L42.9973 821.498 Z\" fill=\"#000000\" fill-rule=\"evenodd\" fill-opacity=\"1\" /><path clip-path=\"url(#clip720)\" d=\"M42.4881 776.397 L64.0042 776.397 L64.0042 782.254 L42.679 782.254 Q37.6183 782.254 35.1038 784.227 Q32.5894 786.201 32.5894 790.147 Q32.5894 794.89 35.6131 797.627 Q38.6368 800.364 43.8567 800.364 L64.0042 800.364 L64.0042 806.253 L28.3562 806.253 L28.3562 800.364 L33.8944 800.364 Q30.6797 798.264 29.0883 795.431 Q27.4968 792.566 27.4968 788.842 Q27.4968 782.699 31.3163 779.548 Q35.1038 776.397 42.4881 776.397 Z\" fill=\"#000000\" fill-rule=\"evenodd\" fill-opacity=\"1\" /><path clip-path=\"url(#clip720)\" d=\"M29.4065 741.991 L34.9447 741.991 Q33.6716 744.473 33.035 747.147 Q32.3984 749.821 32.3984 752.685 Q32.3984 757.046 33.7352 759.242 Q35.072 761.406 37.7456 761.406 Q39.7826 761.406 40.9603 759.847 Q42.1061 758.287 43.1565 753.576 L43.6021 751.571 Q44.9389 745.333 47.3897 742.723 Q49.8086 740.081 54.1691 740.081 Q59.1344 740.081 62.0308 744.028 Q64.9272 747.943 64.9272 754.818 Q64.9272 757.682 64.3543 760.801 Q63.8132 763.889 62.6992 767.326 L56.6518 767.326 Q58.3387 764.08 59.198 760.929 Q60.0256 757.778 60.0256 754.69 Q60.0256 750.553 58.6251 748.325 Q57.1929 746.097 54.6147 746.097 Q52.2276 746.097 50.9545 747.72 Q49.6813 749.311 48.5037 754.754 L48.0262 756.791 Q46.8804 762.234 44.5251 764.653 Q42.138 767.072 38.0002 767.072 Q32.9713 767.072 30.2341 763.507 Q27.4968 759.942 27.4968 753.385 Q27.4968 750.139 27.9743 747.274 Q28.4517 744.41 29.4065 741.991 Z\" fill=\"#000000\" fill-rule=\"evenodd\" fill-opacity=\"1\" /><path clip-path=\"url(#clip720)\" d=\"M28.3562 730.755 L28.3562 724.899 L64.0042 724.899 L64.0042 730.755 L28.3562 730.755 M14.479 730.755 L14.479 724.899 L21.895 724.899 L21.895 730.755 L14.479 730.755 Z\" fill=\"#000000\" fill-rule=\"evenodd\" fill-opacity=\"1\" /><path clip-path=\"url(#clip720)\" d=\"M18.2347 706.852 L28.3562 706.852 L28.3562 694.789 L32.9077 694.789 L32.9077 706.852 L52.2594 706.852 Q56.6199 706.852 57.8613 705.674 Q59.1026 704.465 59.1026 700.805 L59.1026 694.789 L64.0042 694.789 L64.0042 700.805 Q64.0042 707.584 61.4897 710.162 Q58.9434 712.74 52.2594 712.74 L32.9077 712.74 L32.9077 717.037 L28.3562 717.037 L28.3562 712.74 L18.2347 712.74 L18.2347 706.852 Z\" fill=\"#000000\" fill-rule=\"evenodd\" fill-opacity=\"1\" /><path clip-path=\"url(#clip720)\" d=\"M67.3143 672.254 Q73.68 674.737 75.6216 677.092 Q77.5631 679.448 77.5631 683.394 L77.5631 688.073 L72.6615 688.073 L72.6615 684.636 Q72.6615 682.217 71.5157 680.88 Q70.3699 679.543 66.1048 677.92 L63.4312 676.87 L28.3562 691.288 L28.3562 685.081 L56.238 673.941 L28.3562 662.801 L28.3562 656.595 L67.3143 672.254 Z\" fill=\"#000000\" fill-rule=\"evenodd\" fill-opacity=\"1\" /><path clip-path=\"url(#clip720)\" d=\"M803.95 49.7694 Q794.916 49.7694 791.432 51.8354 Q787.949 53.9013 787.949 58.8839 Q787.949 62.8538 790.541 65.2034 Q793.174 67.5124 797.671 67.5124 Q803.869 67.5124 807.595 63.1374 Q811.363 58.7219 811.363 51.4303 L811.363 49.7694 L803.95 49.7694 M818.816 46.6907 L818.816 72.576 L811.363 72.576 L811.363 65.6895 Q808.811 69.8214 805.003 71.8063 Q801.195 73.7508 795.686 73.7508 Q788.718 73.7508 784.586 69.8619 Q780.495 65.9325 780.495 59.3701 Q780.495 51.7138 785.599 47.825 Q790.744 43.9361 800.911 43.9361 L811.363 43.9361 L811.363 43.2069 Q811.363 38.0623 807.96 35.2672 Q804.598 32.4315 798.481 32.4315 Q794.592 32.4315 790.906 33.3632 Q787.219 34.295 783.817 36.1584 L783.817 29.2718 Q787.908 27.692 791.756 26.9223 Q795.605 26.1121 799.251 26.1121 Q809.094 26.1121 813.955 31.2163 Q818.816 36.3204 818.816 46.6907 Z\" fill=\"#000000\" fill-rule=\"evenodd\" fill-opacity=\"1\" /><path clip-path=\"url(#clip720)\" d=\"M841.38 65.7705 L841.38 89.8329 L833.886 89.8329 L833.886 27.2059 L841.38 27.2059 L841.38 34.0924 Q843.73 30.0415 847.294 28.0971 Q850.9 26.1121 855.882 26.1121 Q864.146 26.1121 869.291 32.6746 Q874.476 39.2371 874.476 49.9314 Q874.476 60.6258 869.291 67.1883 Q864.146 73.7508 855.882 73.7508 Q850.9 73.7508 847.294 71.8063 Q843.73 69.8214 841.38 65.7705 M866.739 49.9314 Q866.739 41.7081 863.336 37.0496 Q859.974 32.3505 854.059 32.3505 Q848.145 32.3505 844.742 37.0496 Q841.38 41.7081 841.38 49.9314 Q841.38 58.1548 844.742 62.8538 Q848.145 67.5124 854.059 67.5124 Q859.974 67.5124 863.336 62.8538 Q866.739 58.1548 866.739 49.9314 Z\" fill=\"#000000\" fill-rule=\"evenodd\" fill-opacity=\"1\" /><path clip-path=\"url(#clip720)\" d=\"M894.042 65.7705 L894.042 89.8329 L886.548 89.8329 L886.548 27.2059 L894.042 27.2059 L894.042 34.0924 Q896.391 30.0415 899.956 28.0971 Q903.561 26.1121 908.544 26.1121 Q916.808 26.1121 921.953 32.6746 Q927.138 39.2371 927.138 49.9314 Q927.138 60.6258 921.953 67.1883 Q916.808 73.7508 908.544 73.7508 Q903.561 73.7508 899.956 71.8063 Q896.391 69.8214 894.042 65.7705 M919.4 49.9314 Q919.4 41.7081 915.998 37.0496 Q912.635 32.3505 906.721 32.3505 Q900.807 32.3505 897.404 37.0496 Q894.042 41.7081 894.042 49.9314 Q894.042 58.1548 897.404 62.8538 Q900.807 67.5124 906.721 67.5124 Q912.635 67.5124 915.998 62.8538 Q919.4 58.1548 919.4 49.9314 Z\" fill=\"#000000\" fill-rule=\"evenodd\" fill-opacity=\"1\" /><path clip-path=\"url(#clip720)\" d=\"M965.783 34.1734 Q964.528 33.4443 963.029 33.1202 Q961.57 32.7556 959.788 32.7556 Q953.469 32.7556 950.066 36.8875 Q946.704 40.9789 946.704 48.6757 L946.704 72.576 L939.209 72.576 L939.209 27.2059 L946.704 27.2059 L946.704 34.2544 Q949.053 30.1225 952.82 28.1376 Q956.588 26.1121 961.975 26.1121 Q962.745 26.1121 963.677 26.2337 Q964.609 26.3147 965.743 26.5172 L965.783 34.1734 Z\" fill=\"#000000\" fill-rule=\"evenodd\" fill-opacity=\"1\" /><path clip-path=\"url(#clip720)\" d=\"M989.36 32.4315 Q983.364 32.4315 979.88 37.1306 Q976.397 41.7891 976.397 49.9314 Q976.397 58.0738 979.84 62.7728 Q983.324 67.4314 989.36 67.4314 Q995.314 67.4314 998.798 62.7323 Q1002.28 58.0333 1002.28 49.9314 Q1002.28 41.8701 998.798 37.1711 Q995.314 32.4315 989.36 32.4315 M989.36 26.1121 Q999.082 26.1121 1004.63 32.4315 Q1010.18 38.7509 1010.18 49.9314 Q1010.18 61.0714 1004.63 67.4314 Q999.082 73.7508 989.36 73.7508 Q979.597 73.7508 974.047 67.4314 Q968.538 61.0714 968.538 49.9314 Q968.538 38.7509 974.047 32.4315 Q979.597 26.1121 989.36 26.1121 Z\" fill=\"#000000\" fill-rule=\"evenodd\" fill-opacity=\"1\" /><path clip-path=\"url(#clip720)\" d=\"M1057.7 27.2059 L1041.29 49.2833 L1058.55 72.576 L1049.76 72.576 L1036.55 54.752 L1023.35 72.576 L1014.56 72.576 L1032.18 48.8377 L1016.06 27.2059 L1024.85 27.2059 L1036.88 43.369 L1048.91 27.2059 L1057.7 27.2059 Z\" fill=\"#000000\" fill-rule=\"evenodd\" fill-opacity=\"1\" /><path clip-path=\"url(#clip720)\" d=\"M1069.08 27.2059 L1076.54 27.2059 L1076.54 72.576 L1069.08 72.576 L1069.08 27.2059 M1069.08 9.54393 L1076.54 9.54393 L1076.54 18.9825 L1069.08 18.9825 L1069.08 9.54393 Z\" fill=\"#000000\" fill-rule=\"evenodd\" fill-opacity=\"1\" /><path clip-path=\"url(#clip720)\" d=\"M1127.45 35.9153 Q1130.25 30.8922 1134.14 28.5022 Q1138.03 26.1121 1143.29 26.1121 Q1150.38 26.1121 1154.23 31.0947 Q1158.08 36.0368 1158.08 45.1919 L1158.08 72.576 L1150.59 72.576 L1150.59 45.4349 Q1150.59 38.913 1148.28 35.7533 Q1145.97 32.5936 1141.23 32.5936 Q1135.44 32.5936 1132.07 36.4419 Q1128.71 40.2903 1128.71 46.9338 L1128.71 72.576 L1121.22 72.576 L1121.22 45.4349 Q1121.22 38.8725 1118.91 35.7533 Q1116.6 32.5936 1111.78 32.5936 Q1106.07 32.5936 1102.7 36.4824 Q1099.34 40.3308 1099.34 46.9338 L1099.34 72.576 L1091.85 72.576 L1091.85 27.2059 L1099.34 27.2059 L1099.34 34.2544 Q1101.89 30.082 1105.46 28.0971 Q1109.02 26.1121 1113.92 26.1121 Q1118.87 26.1121 1122.31 28.6237 Q1125.79 31.1352 1127.45 35.9153 Z\" fill=\"#000000\" fill-rule=\"evenodd\" fill-opacity=\"1\" /><path clip-path=\"url(#clip720)\" d=\"M1193.57 49.7694 Q1184.53 49.7694 1181.05 51.8354 Q1177.56 53.9013 1177.56 58.8839 Q1177.56 62.8538 1180.16 65.2034 Q1182.79 67.5124 1187.29 67.5124 Q1193.48 67.5124 1197.21 63.1374 Q1200.98 58.7219 1200.98 51.4303 L1200.98 49.7694 L1193.57 49.7694 M1208.43 46.6907 L1208.43 72.576 L1200.98 72.576 L1200.98 65.6895 Q1198.43 69.8214 1194.62 71.8063 Q1190.81 73.7508 1185.3 73.7508 Q1178.33 73.7508 1174.2 69.8619 Q1170.11 65.9325 1170.11 59.3701 Q1170.11 51.7138 1175.22 47.825 Q1180.36 43.9361 1190.53 43.9361 L1200.98 43.9361 L1200.98 43.2069 Q1200.98 38.0623 1197.58 35.2672 Q1194.21 32.4315 1188.1 32.4315 Q1184.21 32.4315 1180.52 33.3632 Q1176.84 34.295 1173.43 36.1584 L1173.43 29.2718 Q1177.52 27.692 1181.37 26.9223 Q1185.22 26.1121 1188.87 26.1121 Q1198.71 26.1121 1203.57 31.2163 Q1208.43 36.3204 1208.43 46.6907 Z\" fill=\"#000000\" fill-rule=\"evenodd\" fill-opacity=\"1\" /><path clip-path=\"url(#clip720)\" d=\"M1231.16 14.324 L1231.16 27.2059 L1246.51 27.2059 L1246.51 32.9987 L1231.16 32.9987 L1231.16 57.6282 Q1231.16 63.1779 1232.66 64.7578 Q1234.2 66.3376 1238.85 66.3376 L1246.51 66.3376 L1246.51 72.576 L1238.85 72.576 Q1230.23 72.576 1226.95 69.3758 Q1223.66 66.1351 1223.66 57.6282 L1223.66 32.9987 L1218.2 32.9987 L1218.2 27.2059 L1223.66 27.2059 L1223.66 14.324 L1231.16 14.324 Z\" fill=\"#000000\" fill-rule=\"evenodd\" fill-opacity=\"1\" /><path clip-path=\"url(#clip720)\" d=\"M1295.12 48.0275 L1295.12 51.6733 L1260.85 51.6733 Q1261.34 59.3701 1265.47 63.421 Q1269.64 67.4314 1277.05 67.4314 Q1281.35 67.4314 1285.36 66.3781 Q1289.41 65.3249 1293.38 63.2184 L1293.38 70.267 Q1289.37 71.9684 1285.16 72.8596 Q1280.94 73.7508 1276.61 73.7508 Q1265.75 73.7508 1259.39 67.4314 Q1253.07 61.1119 1253.07 50.3365 Q1253.07 39.1965 1259.07 32.6746 Q1265.1 26.1121 1275.31 26.1121 Q1284.47 26.1121 1289.77 32.0264 Q1295.12 37.9003 1295.12 48.0275 M1287.67 45.84 Q1287.59 39.7232 1284.22 36.0774 Q1280.9 32.4315 1275.39 32.4315 Q1269.16 32.4315 1265.39 35.9558 Q1261.66 39.4801 1261.09 45.8805 L1287.67 45.84 Z\" fill=\"#000000\" fill-rule=\"evenodd\" fill-opacity=\"1\" /><path clip-path=\"url(#clip720)\" d=\"M1363.58 34.0924 L1363.58 9.54393 L1371.04 9.54393 L1371.04 72.576 L1363.58 72.576 L1363.58 65.7705 Q1361.23 69.8214 1357.63 71.8063 Q1354.06 73.7508 1349.04 73.7508 Q1340.82 73.7508 1335.63 67.1883 Q1330.49 60.6258 1330.49 49.9314 Q1330.49 39.2371 1335.63 32.6746 Q1340.82 26.1121 1349.04 26.1121 Q1354.06 26.1121 1357.63 28.0971 Q1361.23 30.0415 1363.58 34.0924 M1338.18 49.9314 Q1338.18 58.1548 1341.55 62.8538 Q1344.95 67.5124 1350.86 67.5124 Q1356.78 67.5124 1360.18 62.8538 Q1363.58 58.1548 1363.58 49.9314 Q1363.58 41.7081 1360.18 37.0496 Q1356.78 32.3505 1350.86 32.3505 Q1344.95 32.3505 1341.55 37.0496 Q1338.18 41.7081 1338.18 49.9314 Z\" fill=\"#000000\" fill-rule=\"evenodd\" fill-opacity=\"1\" /><path clip-path=\"url(#clip720)\" d=\"M1386.39 27.2059 L1393.84 27.2059 L1393.84 72.576 L1386.39 72.576 L1386.39 27.2059 M1386.39 9.54393 L1393.84 9.54393 L1393.84 18.9825 L1386.39 18.9825 L1386.39 9.54393 Z\" fill=\"#000000\" fill-rule=\"evenodd\" fill-opacity=\"1\" /><path clip-path=\"url(#clip720)\" d=\"M1438.36 28.5427 L1438.36 35.5912 Q1435.2 33.9709 1431.8 33.1607 Q1428.4 32.3505 1424.75 32.3505 Q1419.2 32.3505 1416.41 34.0519 Q1413.65 35.7533 1413.65 39.156 Q1413.65 41.7486 1415.64 43.2475 Q1417.62 44.7058 1423.62 46.0426 L1426.17 46.6097 Q1434.11 48.3111 1437.43 51.4303 Q1440.79 54.509 1440.79 60.0587 Q1440.79 66.3781 1435.77 70.0644 Q1430.79 73.7508 1422.04 73.7508 Q1418.39 73.7508 1414.42 73.0216 Q1410.49 72.3329 1406.12 70.9151 L1406.12 63.2184 Q1410.25 65.3654 1414.26 66.4591 Q1418.27 67.5124 1422.2 67.5124 Q1427.46 67.5124 1430.3 65.73 Q1433.14 63.9071 1433.14 60.6258 Q1433.14 57.5877 1431.07 55.9673 Q1429.04 54.3469 1422.12 52.8481 L1419.53 52.2405 Q1412.6 50.7821 1409.52 47.7845 Q1406.44 44.7463 1406.44 39.4801 Q1406.44 33.0797 1410.98 29.5959 Q1415.51 26.1121 1423.86 26.1121 Q1427.99 26.1121 1431.64 26.7198 Q1435.28 27.3274 1438.36 28.5427 Z\" fill=\"#000000\" fill-rule=\"evenodd\" fill-opacity=\"1\" /><path clip-path=\"url(#clip720)\" d=\"M1460.03 14.324 L1460.03 27.2059 L1475.39 27.2059 L1475.39 32.9987 L1460.03 32.9987 L1460.03 57.6282 Q1460.03 63.1779 1461.53 64.7578 Q1463.07 66.3376 1467.73 66.3376 L1475.39 66.3376 L1475.39 72.576 L1467.73 72.576 Q1459.1 72.576 1455.82 69.3758 Q1452.54 66.1351 1452.54 57.6282 L1452.54 32.9987 L1447.07 32.9987 L1447.07 27.2059 L1452.54 27.2059 L1452.54 14.324 L1460.03 14.324 Z\" fill=\"#000000\" fill-rule=\"evenodd\" fill-opacity=\"1\" /><path clip-path=\"url(#clip720)\" d=\"M1511.48 34.1734 Q1510.22 33.4443 1508.73 33.1202 Q1507.27 32.7556 1505.49 32.7556 Q1499.17 32.7556 1495.76 36.8875 Q1492.4 40.9789 1492.4 48.6757 L1492.4 72.576 L1484.91 72.576 L1484.91 27.2059 L1492.4 27.2059 L1492.4 34.2544 Q1494.75 30.1225 1498.52 28.1376 Q1502.29 26.1121 1507.67 26.1121 Q1508.44 26.1121 1509.37 26.2337 Q1510.31 26.3147 1511.44 26.5172 L1511.48 34.1734 Z\" fill=\"#000000\" fill-rule=\"evenodd\" fill-opacity=\"1\" /><path clip-path=\"url(#clip720)\" d=\"M1519.3 27.2059 L1526.75 27.2059 L1526.75 72.576 L1519.3 72.576 L1519.3 27.2059 M1519.3 9.54393 L1526.75 9.54393 L1526.75 18.9825 L1519.3 18.9825 L1519.3 9.54393 Z\" fill=\"#000000\" fill-rule=\"evenodd\" fill-opacity=\"1\" /><path clip-path=\"url(#clip720)\" d=\"M1574.92 49.9314 Q1574.92 41.7081 1571.51 37.0496 Q1568.15 32.3505 1562.24 32.3505 Q1556.32 32.3505 1552.92 37.0496 Q1549.56 41.7081 1549.56 49.9314 Q1549.56 58.1548 1552.92 62.8538 Q1556.32 67.5124 1562.24 67.5124 Q1568.15 67.5124 1571.51 62.8538 Q1574.92 58.1548 1574.92 49.9314 M1549.56 34.0924 Q1551.91 30.0415 1555.47 28.0971 Q1559.08 26.1121 1564.06 26.1121 Q1572.33 26.1121 1577.47 32.6746 Q1582.65 39.2371 1582.65 49.9314 Q1582.65 60.6258 1577.47 67.1883 Q1572.33 73.7508 1564.06 73.7508 Q1559.08 73.7508 1555.47 71.8063 Q1551.91 69.8214 1549.56 65.7705 L1549.56 72.576 L1542.06 72.576 L1542.06 9.54393 L1549.56 9.54393 L1549.56 34.0924 Z\" fill=\"#000000\" fill-rule=\"evenodd\" fill-opacity=\"1\" /><path clip-path=\"url(#clip720)\" d=\"M1594.24 54.671 L1594.24 27.2059 L1601.69 27.2059 L1601.69 54.3874 Q1601.69 60.8284 1604.21 64.0691 Q1606.72 67.2693 1611.74 67.2693 Q1617.78 67.2693 1621.26 63.421 Q1624.78 59.5726 1624.78 52.9291 L1624.78 27.2059 L1632.24 27.2059 L1632.24 72.576 L1624.78 72.576 L1624.78 65.6084 Q1622.07 69.7404 1618.46 71.7658 Q1614.9 73.7508 1610.16 73.7508 Q1602.34 73.7508 1598.29 68.8897 Q1594.24 64.0286 1594.24 54.671 M1613 26.1121 L1613 26.1121 Z\" fill=\"#000000\" fill-rule=\"evenodd\" fill-opacity=\"1\" /><path clip-path=\"url(#clip720)\" d=\"M1654.96 14.324 L1654.96 27.2059 L1670.32 27.2059 L1670.32 32.9987 L1654.96 32.9987 L1654.96 57.6282 Q1654.96 63.1779 1656.46 64.7578 Q1658 66.3376 1662.66 66.3376 L1670.32 66.3376 L1670.32 72.576 L1662.66 72.576 Q1654.03 72.576 1650.75 69.3758 Q1647.47 66.1351 1647.47 57.6282 L1647.47 32.9987 L1642 32.9987 L1642 27.2059 L1647.47 27.2059 L1647.47 14.324 L1654.96 14.324 Z\" fill=\"#000000\" fill-rule=\"evenodd\" fill-opacity=\"1\" /><path clip-path=\"url(#clip720)\" d=\"M1680.12 27.2059 L1687.57 27.2059 L1687.57 72.576 L1680.12 72.576 L1680.12 27.2059 M1680.12 9.54393 L1687.57 9.54393 L1687.57 18.9825 L1680.12 18.9825 L1680.12 9.54393 Z\" fill=\"#000000\" fill-rule=\"evenodd\" fill-opacity=\"1\" /><path clip-path=\"url(#clip720)\" d=\"M1720.75 32.4315 Q1714.75 32.4315 1711.27 37.1306 Q1707.79 41.7891 1707.79 49.9314 Q1707.79 58.0738 1711.23 62.7728 Q1714.71 67.4314 1720.75 67.4314 Q1726.71 67.4314 1730.19 62.7323 Q1733.67 58.0333 1733.67 49.9314 Q1733.67 41.8701 1730.19 37.1711 Q1726.71 32.4315 1720.75 32.4315 M1720.75 26.1121 Q1730.47 26.1121 1736.02 32.4315 Q1741.57 38.7509 1741.57 49.9314 Q1741.57 61.0714 1736.02 67.4314 Q1730.47 73.7508 1720.75 73.7508 Q1710.99 73.7508 1705.44 67.4314 Q1699.93 61.0714 1699.93 49.9314 Q1699.93 38.7509 1705.44 32.4315 Q1710.99 26.1121 1720.75 26.1121 Z\" fill=\"#000000\" fill-rule=\"evenodd\" fill-opacity=\"1\" /><path clip-path=\"url(#clip720)\" d=\"M1791.64 45.1919 L1791.64 72.576 L1784.19 72.576 L1784.19 45.4349 Q1784.19 38.994 1781.68 35.7938 Q1779.16 32.5936 1774.14 32.5936 Q1768.11 32.5936 1764.62 36.4419 Q1761.14 40.2903 1761.14 46.9338 L1761.14 72.576 L1753.64 72.576 L1753.64 27.2059 L1761.14 27.2059 L1761.14 34.2544 Q1763.81 30.163 1767.42 28.1376 Q1771.06 26.1121 1775.8 26.1121 Q1783.62 26.1121 1787.63 30.9732 Q1791.64 35.7938 1791.64 45.1919 Z\" fill=\"#000000\" fill-rule=\"evenodd\" fill-opacity=\"1\" /><polyline clip-path=\"url(#clip722)\" style=\"stroke:#009af9; stroke-linecap:butt; stroke-linejoin:round; stroke-width:4; stroke-opacity:1; fill:none\" points=\"\n",
       "  279.759,1386.4 300.088,1386.4 320.418,1386.4 340.747,1386.4 361.077,1386.4 381.406,1386.4 401.736,1386.4 422.065,1386.4 442.395,1386.4 462.724,1386.4 \n",
       "  483.054,1386.4 503.383,1386.4 523.712,1386.4 544.042,1386.4 564.371,1386.4 584.701,1386.4 605.03,1386.4 625.36,1386.4 645.689,1386.4 666.019,1386.4 \n",
       "  686.348,1386.4 706.678,1386.4 727.007,1386.4 747.337,1386.4 767.666,1386.4 787.996,1386.4 808.325,1386.4 828.655,1386.4 848.984,1386.4 869.314,1386.4 \n",
       "  889.643,1386.4 909.973,1386.4 930.302,1386.4 950.632,1386.4 970.961,1386.4 991.291,1386.4 1011.62,1386.4 1031.95,1386.4 1052.28,1386.4 1072.61,1386.4 \n",
       "  1092.94,1386.4 1113.27,1386.4 1133.6,1386.4 1153.93,1386.4 1174.26,1386.39 1194.59,1386.34 1214.91,1385.84 1235.24,1382.24 1255.57,1363.35 1275.9,1292.26 \n",
       "  1296.23,1103.31 1316.56,759.631 1336.89,364.724 1357.22,160.256 1377.55,302.992 1397.88,681.601 1418.21,1048.83 1438.54,1267.36 1458.87,1355.49 1479.2,1380.49 \n",
       "  1499.53,1385.56 1519.86,1386.31 1540.19,1386.39 1560.52,1386.4 1580.85,1386.4 1601.17,1386.4 1621.5,1386.4 1641.83,1386.4 1662.16,1386.4 1682.49,1386.4 \n",
       "  1702.82,1386.4 1723.15,1386.4 1743.48,1386.4 1763.81,1386.4 1784.14,1386.4 1804.47,1386.4 1824.8,1386.4 1845.13,1386.4 1865.46,1386.4 1885.79,1386.4 \n",
       "  1906.12,1386.4 1926.45,1386.4 1946.78,1386.4 1967.11,1386.4 1987.44,1386.4 2007.76,1386.4 2028.09,1386.4 2048.42,1386.4 2068.75,1386.4 2089.08,1386.4 \n",
       "  2109.41,1386.4 2129.74,1386.4 2150.07,1386.4 2170.4,1386.4 2190.73,1386.4 2211.06,1386.4 2231.39,1386.4 2251.72,1386.4 2272.05,1386.4 2292.38,1386.4 \n",
       "  \n",
       "  \"/>\n",
       "</svg>\n"
      ]
     },
     "execution_count": 10,
     "metadata": {},
     "output_type": "execute_result"
    }
   ],
   "source": [
    "# 分布を表示する範囲\n",
    "w₁s = range(-5, 5, length=100)\n",
    "\n",
    "# 得られた近似分布の可視化\n",
    "plot(w₁s, pdf.(Normal.(μ_approx, σ_approx), w₁s), \n",
    "     xlab=\"w₁\", ylab=\"density\", title=\"approximate distribution\", label=:none)"
   ]
  },
  {
   "cell_type": "code",
   "execution_count": null,
   "id": "cdbcc74d",
   "metadata": {},
   "outputs": [],
   "source": []
  }
 ],
 "metadata": {
  "kernelspec": {
   "display_name": "Julia 1.7.0",
   "language": "julia",
   "name": "julia-1.7"
  },
  "language_info": {
   "file_extension": ".jl",
   "mimetype": "application/julia",
   "name": "julia",
   "version": "1.7.0"
  }
 },
 "nbformat": 4,
 "nbformat_minor": 5
}
